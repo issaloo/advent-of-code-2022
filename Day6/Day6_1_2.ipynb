{
 "cells": [
  {
   "cell_type": "code",
   "execution_count": 27,
   "metadata": {},
   "outputs": [],
   "source": [
    "# extract input\n",
    "with open('Day6.txt', 'r') as f:\n",
    "    signal = f.read()"
   ]
  },
  {
   "cell_type": "markdown",
   "metadata": {},
   "source": [
    "# Part 1"
   ]
  },
  {
   "cell_type": "code",
   "execution_count": 32,
   "metadata": {},
   "outputs": [
    {
     "data": {
      "text/plain": [
       "1804"
      ]
     },
     "execution_count": 32,
     "metadata": {},
     "output_type": "execute_result"
    }
   ],
   "source": [
    "cursor = 0\n",
    "is_searching = True\n",
    "while is_searching:\n",
    "    if len(set(signal[cursor:cursor+4])) == 4:\n",
    "        is_searching = False\n",
    "    cursor +=1\n",
    "cursor + 4 - 1"
   ]
  },
  {
   "cell_type": "code",
   "execution_count": 33,
   "metadata": {},
   "outputs": [
    {
     "data": {
      "text/plain": [
       "2508"
      ]
     },
     "execution_count": 33,
     "metadata": {},
     "output_type": "execute_result"
    }
   ],
   "source": [
    "cursor = 0\n",
    "is_searching = True\n",
    "while is_searching:\n",
    "    if len(set(signal[cursor:cursor+14])) == 14:\n",
    "        is_searching = False\n",
    "    cursor +=1\n",
    "cursor + 14 - 1"
   ]
  }
 ],
 "metadata": {
  "kernelspec": {
   "display_name": "Python 3.9.9 ('.venv': venv)",
   "language": "python",
   "name": "python3"
  },
  "language_info": {
   "codemirror_mode": {
    "name": "ipython",
    "version": 3
   },
   "file_extension": ".py",
   "mimetype": "text/x-python",
   "name": "python",
   "nbconvert_exporter": "python",
   "pygments_lexer": "ipython3",
   "version": "3.9.9"
  },
  "orig_nbformat": 4,
  "vscode": {
   "interpreter": {
    "hash": "13eb6c4474650238971068fb732aa87a8762125df6fe4aea43a7340a1036ccc0"
   }
  }
 },
 "nbformat": 4,
 "nbformat_minor": 2
}
