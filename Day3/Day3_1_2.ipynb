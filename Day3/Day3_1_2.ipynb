{
 "cells": [
  {
   "cell_type": "code",
   "execution_count": 17,
   "metadata": {},
   "outputs": [],
   "source": [
    "# import libraries\n",
    "import string"
   ]
  },
  {
   "cell_type": "code",
   "execution_count": 1,
   "metadata": {},
   "outputs": [],
   "source": [
    "with open('Day3.txt', 'r') as f:\n",
    "    ruck_list = f.read().split('\\n')"
   ]
  },
  {
   "cell_type": "markdown",
   "metadata": {},
   "source": [
    "# Part 1"
   ]
  },
  {
   "cell_type": "code",
   "execution_count": 46,
   "metadata": {},
   "outputs": [],
   "source": [
    "item_tracker = dict.fromkeys(string.ascii_lowercase + string.ascii_uppercase, 0)\n",
    "for row in ruck_list:\n",
    "    bag_1, bag_2 = row[:len(row)//2], row[len(row)//2:]\n",
    "    u_bag_1, u_bag_2 = set(bag_1), set(bag_2)\n",
    "    for item in list(u_bag_1.intersection(u_bag_2)):\n",
    "        item_tracker[item] += 1"
   ]
  },
  {
   "cell_type": "code",
   "execution_count": 49,
   "metadata": {},
   "outputs": [
    {
     "data": {
      "text/plain": [
       "7878"
      ]
     },
     "execution_count": 49,
     "metadata": {},
     "output_type": "execute_result"
    }
   ],
   "source": [
    "priority_key = {key: count + 1 for count, key in enumerate(string.ascii_lowercase + string.ascii_uppercase)}\n",
    "priority_sum = 0\n",
    "for key in item_tracker:\n",
    "    priority_sum += item_tracker[key]*priority_key[key]\n",
    "priority_sum"
   ]
  },
  {
   "cell_type": "markdown",
   "metadata": {},
   "source": [
    "# Part 2"
   ]
  },
  {
   "cell_type": "code",
   "execution_count": 55,
   "metadata": {},
   "outputs": [
    {
     "name": "stdout",
     "output_type": "stream",
     "text": [
      "ZNNvFWHqLNPZHHqPTHHnTGBhrrpjvmwfMmpfpjBjwpmw\n",
      "sbdzQgzgssgbglRtmjlwhjBlfrSrMt\n",
      "zgsCRzJbsdRVQCDbcgLGWWLnZNGVLLZMNZnq\n"
     ]
    }
   ],
   "source": [
    "for bag_1, bag_2, bag_3 in zip(ruck_list[::3], ruck_list[1::3], ruck_list[2::3]):\n",
    "    u_bag_1, u_bag_2, u_bag_3 = set(bag_1), set(bag_2), set(bag_3)\n",
    "    for itm in list(u_bag_1.intersection(u_bag_2).intersection(u_bag_3)):\n",
    "        item_tracker[item] += 1\n",
    "    break"
   ]
  },
  {
   "cell_type": "code",
   "execution_count": 56,
   "metadata": {},
   "outputs": [
    {
     "data": {
      "text/plain": [
       "['ZNNvFWHqLNPZHHqPTHHnTGBhrrpjvmwfMmpfpjBjwpmw',\n",
       " 'sbdzQgzgssgbglRtmjlwhjBlfrSrMt',\n",
       " 'zgsCRzJbsdRVQCDbcgLGWWLnZNGVLLZMNZnq']"
      ]
     },
     "execution_count": 56,
     "metadata": {},
     "output_type": "execute_result"
    }
   ],
   "source": [
    "ruck_list[:3]"
   ]
  },
  {
   "cell_type": "code",
   "execution_count": null,
   "metadata": {},
   "outputs": [],
   "source": []
  }
 ],
 "metadata": {
  "kernelspec": {
   "display_name": "Python 3.9.9 ('.venv': venv)",
   "language": "python",
   "name": "python3"
  },
  "language_info": {
   "codemirror_mode": {
    "name": "ipython",
    "version": 3
   },
   "file_extension": ".py",
   "mimetype": "text/x-python",
   "name": "python",
   "nbconvert_exporter": "python",
   "pygments_lexer": "ipython3",
   "version": "3.9.9"
  },
  "orig_nbformat": 4,
  "vscode": {
   "interpreter": {
    "hash": "13eb6c4474650238971068fb732aa87a8762125df6fe4aea43a7340a1036ccc0"
   }
  }
 },
 "nbformat": 4,
 "nbformat_minor": 2
}
