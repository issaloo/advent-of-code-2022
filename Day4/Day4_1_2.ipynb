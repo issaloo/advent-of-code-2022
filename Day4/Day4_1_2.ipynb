{
 "cells": [
  {
   "cell_type": "code",
   "execution_count": null,
   "metadata": {},
   "outputs": [],
   "source": [
    "# import libraries\n"
   ]
  },
  {
   "cell_type": "code",
   "execution_count": 7,
   "metadata": {},
   "outputs": [],
   "source": [
    "with open('Day4.txt', 'r') as f:\n",
    "    assignment_list = f.read().split('\\n')"
   ]
  },
  {
   "cell_type": "markdown",
   "metadata": {},
   "source": [
    "# Part 1"
   ]
  },
  {
   "cell_type": "code",
   "execution_count": 19,
   "metadata": {},
   "outputs": [
    {
     "data": {
      "text/plain": [
       "2"
      ]
     },
     "execution_count": 19,
     "metadata": {},
     "output_type": "execute_result"
    }
   ],
   "source": [
    "counter = 0\n",
    "for row in assignment_list:\n",
    "   pair_list = row.split(',')\n",
    "   elf1 = [int(num) for num in pair_list[0].split('-')]\n",
    "   elf2 = [int(num) for num in pair_list[1].split('-')]\n",
    "   contain_bool = (((elf1[0] <= elf2[0]) & (elf1[1] >= elf2[1]))\n",
    "                   | (elf1[0] >= elf2[0]) & (elf1[1] <= elf2[1]))\n",
    "   if contain_bool:\n",
    "        counter += 1\n",
    "counter"
   ]
  },
  {
   "cell_type": "markdown",
   "metadata": {},
   "source": [
    "# Part 2"
   ]
  },
  {
   "cell_type": "code",
   "execution_count": 20,
   "metadata": {},
   "outputs": [],
   "source": [
    "stuff = \"\"\"2-4,6-8\n",
    "2-3,4-5\n",
    "5-7,7-9\n",
    "2-8,3-7\n",
    "6-6,4-6\n",
    "2-6,4-8\"\"\"\n",
    "assignment_list = stuff.split('\\n')"
   ]
  },
  {
   "cell_type": "code",
   "execution_count": 25,
   "metadata": {},
   "outputs": [
    {
     "name": "stdout",
     "output_type": "stream",
     "text": [
      "[2, 4] [6, 8]\n",
      "False\n",
      "[2, 3] [4, 5]\n",
      "False\n",
      "[5, 7] [7, 9]\n",
      "True\n",
      "[2, 8] [3, 7]\n",
      "True\n",
      "[4, 6] [6, 6]\n",
      "True\n",
      "[2, 6] [4, 8]\n",
      "True\n"
     ]
    },
    {
     "data": {
      "text/plain": [
       "4"
      ]
     },
     "execution_count": 25,
     "metadata": {},
     "output_type": "execute_result"
    }
   ],
   "source": [
    "counter = 0\n",
    "for row in assignment_list:\n",
    "   pair_list = row.split(',')\n",
    "   elf1 = [int(num) for num in pair_list[0].split('-')]\n",
    "   elf2 = [int(num) for num in pair_list[1].split('-')]\n",
    "   if elf1[0] < elf2[0]:\n",
    "        lower = elf1.copy()\n",
    "        upper = elf2.copy()\n",
    "   else:\n",
    "        upper = elf1.copy()\n",
    "        lower = elf2.copy()\n",
    "   contain_bool = lower[1] >= upper[0]\n",
    "   if contain_bool:\n",
    "        counter += 1\n",
    "counter"
   ]
  },
  {
   "cell_type": "code",
   "execution_count": null,
   "metadata": {},
   "outputs": [],
   "source": []
  }
 ],
 "metadata": {
  "kernelspec": {
   "display_name": "Python 3.9.9 ('.venv': venv)",
   "language": "python",
   "name": "python3"
  },
  "language_info": {
   "codemirror_mode": {
    "name": "ipython",
    "version": 3
   },
   "file_extension": ".py",
   "mimetype": "text/x-python",
   "name": "python",
   "nbconvert_exporter": "python",
   "pygments_lexer": "ipython3",
   "version": "3.9.9"
  },
  "orig_nbformat": 4,
  "vscode": {
   "interpreter": {
    "hash": "13eb6c4474650238971068fb732aa87a8762125df6fe4aea43a7340a1036ccc0"
   }
  }
 },
 "nbformat": 4,
 "nbformat_minor": 2
}
