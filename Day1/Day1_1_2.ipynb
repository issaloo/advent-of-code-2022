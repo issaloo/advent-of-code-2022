{
 "cells": [
  {
   "cell_type": "code",
   "execution_count": null,
   "metadata": {},
   "outputs": [],
   "source": [
    "with open('Day1.txt', 'r') as f:\n",
    "    cal_list = f.read().split('\\n')"
   ]
  },
  {
   "cell_type": "markdown",
   "metadata": {},
   "source": [
    "# Day 1 Part 1"
   ]
  },
  {
   "cell_type": "code",
   "execution_count": 20,
   "metadata": {},
   "outputs": [
    {
     "name": "stdout",
     "output_type": "stream",
     "text": [
      "68802\n"
     ]
    }
   ],
   "source": [
    "top_cal = 0\n",
    "cal_counter = 0\n",
    "for cal in cal_list:\n",
    "    if cal != '':\n",
    "        cal_counter += int(cal)\n",
    "    else:\n",
    "        if cal_counter > top_cal:\n",
    "            top_cal = cal_counter\n",
    "        cal_counter = 0\n",
    "print(top_cal)\n"
   ]
  },
  {
   "cell_type": "markdown",
   "metadata": {},
   "source": [
    "# Day 1 Part 2"
   ]
  },
  {
   "cell_type": "code",
   "execution_count": 21,
   "metadata": {},
   "outputs": [],
   "source": [
    "elf_dict = {}\n",
    "elf_id = 0\n",
    "elf_dict[elf_id] = 0\n",
    "for cal in cal_list:\n",
    "    if cal != '':\n",
    "        elf_dict[elf_id] += int(cal)\n",
    "    else:\n",
    "        elf_id +=1\n",
    "        elf_dict[elf_id] = 0\n",
    "print(sum(sorted(elf_dict.values(), reverse=True)[:3]))"
   ]
  }
 ],
 "metadata": {
  "kernelspec": {
   "display_name": "Python 3.9.9 64-bit ('3.9.9')",
   "language": "python",
   "name": "python3"
  },
  "language_info": {
   "codemirror_mode": {
    "name": "ipython",
    "version": 3
   },
   "file_extension": ".py",
   "mimetype": "text/x-python",
   "name": "python",
   "nbconvert_exporter": "python",
   "pygments_lexer": "ipython3",
   "version": "3.9.9"
  },
  "orig_nbformat": 4,
  "vscode": {
   "interpreter": {
    "hash": "f9126033b075d39abfc50b276637426c5b05a097c987f3287455c384ff7fc6d6"
   }
  }
 },
 "nbformat": 4,
 "nbformat_minor": 2
}
