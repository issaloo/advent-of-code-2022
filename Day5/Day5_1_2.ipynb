{
 "cells": [
  {
   "cell_type": "code",
   "execution_count": 180,
   "metadata": {},
   "outputs": [],
   "source": [
    "# import libraries\n",
    "import re\n",
    "from copy import deepcopy"
   ]
  },
  {
   "cell_type": "code",
   "execution_count": 181,
   "metadata": {},
   "outputs": [],
   "source": [
    "# extract input\n",
    "with open('Day5.txt', 'r') as f:\n",
    "    init_list = f.read().split('\\n\\n')\n",
    "    stack_start = init_list[0].split('\\n')\n",
    "    step_list = init_list[1].split('\\n')\n",
    "\n",
    "# convert steps to pure numbers\n",
    "step_list = [re.findall(r\"\\d+\", step) for step in step_list]\n",
    "step_list = [[int(num) for num in step] for step in step_list]\n",
    "\n",
    "# convert stack string to dictionary\n",
    "num_stack_list = stack_start.pop()\n",
    "num_stacks = int(max(num_stack_list.split()))\n",
    "crate_list = []\n",
    "for crate in stack_start:\n",
    "    crate_list.append(list(crate[1::4]))\n",
    "stack_dict = {str(num): [] for num in range(num_stacks)}\n",
    "for row in reversed(crate_list):\n",
    "   for stack_num, crate in enumerate(row):\n",
    "      if crate != ' ':\n",
    "         stack_dict[str(stack_num)].append(crate)"
   ]
  },
  {
   "cell_type": "markdown",
   "metadata": {},
   "source": [
    "# Part 1"
   ]
  },
  {
   "cell_type": "code",
   "execution_count": 172,
   "metadata": {},
   "outputs": [],
   "source": [
    "p1_stack_dict = deepcopy(stack_dict)\n",
    "for step in step_list:\n",
    "    move_num = step[0]\n",
    "    from_stack = str(step[1] - 1)\n",
    "    to_stack = str(step[2] - 1)\n",
    "    for i in range(move_num): \n",
    "        move_crate = p1_stack_dict[from_stack].pop()\n",
    "        p1_stack_dict[to_stack].append(move_crate)"
   ]
  },
  {
   "cell_type": "code",
   "execution_count": 173,
   "metadata": {},
   "outputs": [
    {
     "name": "stdout",
     "output_type": "stream",
     "text": [
      "BWNCQRMDB\n"
     ]
    }
   ],
   "source": [
    "word_list = []\n",
    "for key, val in p1_stack_dict.items():\n",
    "    if val:\n",
    "        word_list.append(val.pop())\n",
    "print(''.join(word_list))"
   ]
  },
  {
   "cell_type": "markdown",
   "metadata": {},
   "source": [
    "# Part 2"
   ]
  },
  {
   "cell_type": "code",
   "execution_count": 189,
   "metadata": {},
   "outputs": [],
   "source": [
    "p2_stack_dict = deepcopy(stack_dict)\n",
    "for step in step_list:\n",
    "    move_num = step[0]\n",
    "    from_stack = str(step[1] - 1)\n",
    "    to_stack = str(step[2] - 1)\n",
    "    move_crates = p2_stack_dict[from_stack][-move_num:]\n",
    "    p2_stack_dict[from_stack] = p2_stack_dict[from_stack][:-move_num]\n",
    "    p2_stack_dict[to_stack].extend(move_crates)"
   ]
  },
  {
   "cell_type": "code",
   "execution_count": 191,
   "metadata": {},
   "outputs": [
    {
     "name": "stdout",
     "output_type": "stream",
     "text": [
      "NHWZCBNBF\n"
     ]
    }
   ],
   "source": [
    "word_list = []\n",
    "for key, val in p2_stack_dict.items():\n",
    "    if val:\n",
    "        word_list.append(val.pop())\n",
    "print(''.join(word_list))"
   ]
  }
 ],
 "metadata": {
  "kernelspec": {
   "display_name": "Python 3.9.9 ('.venv': venv)",
   "language": "python",
   "name": "python3"
  },
  "language_info": {
   "codemirror_mode": {
    "name": "ipython",
    "version": 3
   },
   "file_extension": ".py",
   "mimetype": "text/x-python",
   "name": "python",
   "nbconvert_exporter": "python",
   "pygments_lexer": "ipython3",
   "version": "3.9.9"
  },
  "orig_nbformat": 4,
  "vscode": {
   "interpreter": {
    "hash": "13eb6c4474650238971068fb732aa87a8762125df6fe4aea43a7340a1036ccc0"
   }
  }
 },
 "nbformat": 4,
 "nbformat_minor": 2
}
