{
 "cells": [
  {
   "cell_type": "code",
   "execution_count": 12,
   "metadata": {},
   "outputs": [],
   "source": [
    "with open('Day2.txt', 'r') as f:\n",
    "    strategy_list = f.read().split('\\n')"
   ]
  },
  {
   "cell_type": "markdown",
   "metadata": {},
   "source": [
    "# Day 2 Part 1"
   ]
  },
  {
   "cell_type": "code",
   "execution_count": 13,
   "metadata": {},
   "outputs": [],
   "source": [
    "opp_dict = {'A': 1, 'B': 2, 'C': 3}\n",
    "me_dict = {'X': 1, 'Y': 2, 'Z': 3}\n",
    "outcome_dict = {}\n",
    "for opp_key in opp_dict:\n",
    "    opp_val = opp_dict[opp_key]\n",
    "    for me_key in me_dict:\n",
    "        me_val = me_dict[me_key]\n",
    "        if opp_val == me_val:\n",
    "            outcome_dict[f'{opp_key} {me_key}'] = me_val + 3\n",
    "        elif opp_val == 1:\n",
    "            if me_val == 3:\n",
    "                outcome_dict[f'{opp_key} {me_key}'] = me_val + 0\n",
    "            else:\n",
    "                outcome_dict[f'{opp_key} {me_key}'] = me_val + 6\n",
    "        elif opp_val == 2:\n",
    "            if me_val == 1:\n",
    "                outcome_dict[f'{opp_key} {me_key}'] = me_val + 0\n",
    "            else:\n",
    "                outcome_dict[f'{opp_key} {me_key}'] = me_val + 6\n",
    "        elif opp_val == 3:\n",
    "            if me_val == 2:\n",
    "                outcome_dict[f'{opp_key} {me_key}'] = me_val + 0\n",
    "            else:\n",
    "                outcome_dict[f'{opp_key} {me_key}'] = me_val + 6   "
   ]
  },
  {
   "cell_type": "code",
   "execution_count": 16,
   "metadata": {},
   "outputs": [
    {
     "data": {
      "text/plain": [
       "11449"
      ]
     },
     "execution_count": 16,
     "metadata": {},
     "output_type": "execute_result"
    }
   ],
   "source": [
    "total_score = 0\n",
    "for row in strategy_list:\n",
    "    total_score += outcome_dict[row]\n",
    "total_score"
   ]
  },
  {
   "cell_type": "markdown",
   "metadata": {},
   "source": [
    "# Day 2 Part 2"
   ]
  },
  {
   "cell_type": "code",
   "execution_count": 26,
   "metadata": {},
   "outputs": [],
   "source": [
    "rps_dict = {'A': 1, 'B': 2, 'C': 3}\n",
    "outcome_dict = {}\n",
    "for rps_key in rps_dict:\n",
    "    rps_val = rps_dict[rps_key]\n",
    "    for outcome in ['X', 'Y', 'Z']:\n",
    "        if outcome == 'X': # lose, + 0\n",
    "            if rps_val == 1:  # if rock, then lose\n",
    "                outcome_dict[f'{rps_key} {outcome}'] = 3\n",
    "            else: # else if anything\n",
    "                outcome_dict[f'{rps_key} {outcome}'] = rps_val - 1\n",
    "        elif outcome == 'Y': # draw + 3\n",
    "            outcome_dict[f'{rps_key} {outcome}'] = rps_val + 3\n",
    "        else: # win + 6\n",
    "            if rps_val == 3:\n",
    "                outcome_dict[f'{rps_key} {outcome}'] = 1 + 6\n",
    "            else:\n",
    "                outcome_dict[f'{rps_key} {outcome}'] = rps_val + 1 + 6"
   ]
  },
  {
   "cell_type": "code",
   "execution_count": 28,
   "metadata": {},
   "outputs": [
    {
     "data": {
      "text/plain": [
       "13187"
      ]
     },
     "execution_count": 28,
     "metadata": {},
     "output_type": "execute_result"
    }
   ],
   "source": [
    "total_score = 0\n",
    "for row in strategy_list:\n",
    "    total_score += outcome_dict[row]\n",
    "total_score"
   ]
  }
 ],
 "metadata": {
  "kernelspec": {
   "display_name": "Python 3.9.13 64-bit",
   "language": "python",
   "name": "python3"
  },
  "language_info": {
   "codemirror_mode": {
    "name": "ipython",
    "version": 3
   },
   "file_extension": ".py",
   "mimetype": "text/x-python",
   "name": "python",
   "nbconvert_exporter": "python",
   "pygments_lexer": "ipython3",
   "version": "3.9.13"
  },
  "orig_nbformat": 4,
  "vscode": {
   "interpreter": {
    "hash": "b0fa6594d8f4cbf19f97940f81e996739fb7646882a419484c72d19e05852a7e"
   }
  }
 },
 "nbformat": 4,
 "nbformat_minor": 2
}
